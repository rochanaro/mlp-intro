{
  "cells": [
    {
      "cell_type": "markdown",
      "source": [
        "# DS Bootcamp 2024 - MLP - Laboratory Session"
      ],
      "metadata": {
        "id": "5aZQKgPYzptd"
      }
    },
    {
      "cell_type": "markdown",
      "source": [
        "## **Outline**\n",
        "1.   Training an MLP using TensorFlow & Keras\n",
        "    - configuring the python environment\n",
        "    - About the dataset\n",
        "        - MNIST\n",
        "        - FashinMNIST\n",
        "    - Preapre the dataset\n",
        "    - Hyper-Parameters\n",
        "        - epochs\n",
        "        - batch size\n",
        "        - learning rate\n",
        "    - Define the model\n",
        "    - Train the model\n",
        "    - Evaluate the model\n",
        "        - Expected results\n",
        "            - lower loss\n",
        "            - higher accuracy\n",
        "        - How to intepret results\n",
        "\n",
        "2. Additional Resources\n",
        "    - Training an MLP with PyTorch\n",
        "    - Why GPUs are required ?\n",
        "    - Platforms that you can use for deep learning\n",
        "        - Google Colab\n",
        "        - ODU Wahab Cluster\n",
        "        - Dedictaed GPU env at your own lab\n",
        "        - Your local machine with GPU capabiities\n",
        "    - Designing an MLP without deep learning frameworks such as TensorFlow, Keras, PyTorch\n",
        "\n",
        "<br><br>\n",
        "\n",
        "---\n",
        "\n",
        "__Rochana R. Obadage__<br>\n",
        "_15th April 2024_"
      ],
      "metadata": {
        "id": "AB0YWavjy5TE"
      }
    },
    {
      "cell_type": "code",
      "source": [
        "# !git clone https://github.com/rochanaro/mlp-intro.git"
      ],
      "metadata": {
        "id": "J8a1T7AzpZ-c"
      },
      "execution_count": null,
      "outputs": []
    },
    {
      "cell_type": "code",
      "source": [
        "# # optional\n",
        "# from google.colab import drive\n",
        "# drive.mount('/content/drive')"
      ],
      "metadata": {
        "id": "Xca4gCp3qMWS"
      },
      "execution_count": null,
      "outputs": []
    },
    {
      "cell_type": "markdown",
      "source": [
        "# 1. Training an MLP"
      ],
      "metadata": {
        "id": "KK0HRSE2pUt1"
      }
    },
    {
      "cell_type": "markdown",
      "source": [
        "## 1.1. Configuring the python environment"
      ],
      "metadata": {
        "id": "IqFGQX64p_5-"
      }
    },
    {
      "cell_type": "code",
      "execution_count": null,
      "metadata": {
        "id": "_iYcla4kCX67"
      },
      "outputs": [],
      "source": [
        "import os\n",
        "import numpy as np\n",
        "import time\n",
        "import tensorflow as tf\n",
        "from tensorflow import keras\n",
        "import matplotlib.pyplot as plt\n",
        "\n",
        "np.random.seed(1234)\n",
        "tf.random.set_seed(1234)"
      ]
    },
    {
      "cell_type": "code",
      "execution_count": null,
      "metadata": {
        "colab": {
          "base_uri": "https://localhost:8080/"
        },
        "id": "Kgna3kY6CX67",
        "outputId": "42bc539f-99b0-4ec8-8dd7-6b3a40424437"
      },
      "outputs": [
        {
          "output_type": "execute_result",
          "data": {
            "text/plain": [
              "[PhysicalDevice(name='/physical_device:GPU:0', device_type='GPU')]"
            ]
          },
          "metadata": {},
          "execution_count": 5
        }
      ],
      "source": [
        "tf.config.list_physical_devices('GPU')"
      ]
    },
    {
      "cell_type": "markdown",
      "source": [
        "## 1.2. About the dataset\n",
        "\n",
        "- https://en.wikipedia.org/wiki/MNIST_database\n",
        "- http://yann.lecun.com/exdb/mnist/"
      ],
      "metadata": {
        "id": "GrNAczrPqX6k"
      }
    },
    {
      "cell_type": "markdown",
      "source": [
        "## 1.3. Preapre the dataset"
      ],
      "metadata": {
        "id": "3b9X00Hgu0u8"
      }
    },
    {
      "cell_type": "code",
      "execution_count": null,
      "metadata": {
        "colab": {
          "base_uri": "https://localhost:8080/",
          "height": 284
        },
        "id": "JodgHy9nCX68",
        "outputId": "7933c29a-333c-48f4-b5fc-03c94da41167"
      },
      "outputs": [
        {
          "output_type": "stream",
          "name": "stdout",
          "text": [
            "Downloading data from https://storage.googleapis.com/tensorflow/tf-keras-datasets/mnist.npz\n",
            "11490434/11490434 [==============================] - 1s 0us/step\n"
          ]
        },
        {
          "output_type": "display_data",
          "data": {
            "text/plain": [
              "<Figure size 640x480 with 3 Axes>"
            ],
            "image/png": "[encoded data removed]"
          },
          "metadata": {}
        }
      ],
      "source": [
        "(X_train, y_train), (X_test, y_test) = keras.datasets.mnist.load_data() # Load MNIST\n",
        "assert X_train.shape == (60000, 28, 28)\n",
        "assert X_test.shape == (10000, 28, 28)\n",
        "assert y_train.shape == (60000,)\n",
        "assert y_test.shape == (10000,)\n",
        "\n",
        "\n",
        "# Display randomly selected data\n",
        "indices = list(np.random.randint(X_train.shape[0],size=3))\n",
        "for i in range(3):\n",
        "    plt.subplot(1,3,i+1)\n",
        "    plt.imshow(X_train[indices[i]].reshape(28,28), cmap='gray', interpolation='none')\n",
        "    plt.title(\"Index {} Class {}\".format(indices[i], y_train[indices[i]]))\n",
        "    plt.tight_layout()"
      ]
    },
    {
      "cell_type": "markdown",
      "source": [
        "### **Important**\n",
        "* Always have a validation set, the procedure to create validation or dev set is by performing random sample without replacement on train set and then only using that fraction as dev set.\n",
        "* Simple approach is to set some K samples, you can extract them from start, mid or end.\n",
        "* Imagine validation set that partially approximates test set distribution and we assume our model would produce identical results when we test it on test set.\n",
        "* Always optimize your hyperparameters by looking at performance on validation set and not test set.\n",
        "* Do not touch test set, we have this to test how our model would work on unseen data."
      ],
      "metadata": {
        "id": "PowjAHuw-wm7"
      }
    },
    {
      "cell_type": "code",
      "execution_count": null,
      "metadata": {
        "colab": {
          "base_uri": "https://localhost:8080/"
        },
        "id": "oIRI-uLoCX69",
        "outputId": "504cc8bb-d2c9-4ed7-dcae-a976a761c94e"
      },
      "outputs": [
        {
          "output_type": "stream",
          "name": "stdout",
          "text": [
            "size of training set is 50000 samples\n",
            "every train example is 28 by 28\n",
            "size of validation set is 10000 samples\n",
            "every validation example is 28 by 28\n",
            "size of training set is 50000 samples\n",
            "every train example has 784 features\n",
            "size of validation set is 10000 samples\n",
            "every validation example has 784 features\n"
          ]
        }
      ],
      "source": [
        "# Split train dataset into train and validation\n",
        "X_val = X_train[50000:60000]\n",
        "X_train = X_train[0:50000]\n",
        "y_val = y_train[50000:60000]\n",
        "y_train = y_train[0:50000]\n",
        "\n",
        "print(\"size of training set is\", str(X_train.shape[0]), \"samples\")\n",
        "print(\"every train example is\", str(X_train.shape[1]), \"by\", str(X_train.shape[2]))\n",
        "\n",
        "print(\"size of validation set is\", str(X_val.shape[0]), \"samples\")\n",
        "print(\"every validation example is\", str(X_val.shape[1]), \"by\", str(X_val.shape[2]))\n",
        "\n",
        "X_train = X_train.reshape(50000, 28*28)\n",
        "X_val = X_val.reshape(10000, 28*28)\n",
        "X_test = X_test.reshape(10000, 28*28)\n",
        "\n",
        "print(\"size of training set is\", str(X_train.shape[0]), \"samples\")\n",
        "print(\"every train example has\", str(X_train.shape[1]), \"features\")\n",
        "\n",
        "print(\"size of validation set is\", str(X_val.shape[0]), \"samples\")\n",
        "print(\"every validation example has\", str(X_val.shape[1]), \"features\")\n",
        "\n",
        "# Split dataset into batches\n",
        "#train_ds = tf.data.Dataset.from_tensor_slices((X_train, y_train)).batch(16)\n",
        "#test_ds = tf.data.Dataset.from_tensor_slices((X_test, y_test)).batch(4)"
      ]
    },
    {
      "cell_type": "markdown",
      "source": [
        "### **Points to remember**\n",
        "* If using any type of neural network, normalize your input between 0-1.\n",
        "* One can use various procedures to achieve this, divide by largest value (for images we use 255), subtract mean from data and then normalize, one can even augment them and use other steps for normalization.\n",
        "* Normalization is important step, one could observe significant boost in performance just by having better normalization scheme.\n",
        "* For targets we always use one-hot encodings."
      ],
      "metadata": {
        "id": "VdMEIaFKAscU"
      }
    },
    {
      "cell_type": "code",
      "execution_count": null,
      "metadata": {
        "colab": {
          "base_uri": "https://localhost:8080/"
        },
        "id": "mDyZ8bZjCX69",
        "outputId": "592dae47-0422-4b52-b1f0-b301809c6c21"
      },
      "outputs": [
        {
          "output_type": "execute_result",
          "data": {
            "text/plain": [
              "1.0"
            ]
          },
          "metadata": {},
          "execution_count": 8
        }
      ],
      "source": [
        "#Normalize Data\n",
        "\n",
        "X_train = X_train/255\n",
        "X_val = X_val/255\n",
        "X_test = X_test/255\n",
        "# X_train[0]\n",
        "np.max(X_train)"
      ]
    },
    {
      "cell_type": "code",
      "execution_count": null,
      "metadata": {
        "colab": {
          "base_uri": "https://localhost:8080/"
        },
        "id": "3lIIy313CX69",
        "outputId": "e1060cfb-e7fa-46f1-eab2-a44c300b3301"
      },
      "outputs": [
        {
          "output_type": "stream",
          "name": "stdout",
          "text": [
            "tf.Tensor([10000    10], shape=(2,), dtype=int32)\n"
          ]
        }
      ],
      "source": [
        "size_input = X_train.shape[1] # 28*28 = 784\n",
        "size_hidden1 = 128\n",
        "size_hidden2 = 128\n",
        "size_hidden3 = 128\n",
        "size_output = 10 # number of classes\n",
        "\n",
        "number_of_train_examples = X_train.shape[0]\n",
        "number_of_test_examples = X_test.shape[0]\n",
        "\n",
        "y_train = tf.keras.utils.to_categorical(y_train, num_classes=10) # Other function is tf.one_hot(y_train,depth=10)\n",
        "y_val = tf.keras.utils.to_categorical(y_val, num_classes=10)\n",
        "y_test = tf.keras.utils.to_categorical(y_test, num_classes=10)\n",
        "print(tf.shape(y_val))"
      ]
    },
    {
      "cell_type": "markdown",
      "source": [
        "## 1.4. Hyper-Parameters\n",
        "\n",
        "- **Hyperparameters**: Hyperparameters are settings that you choose before training your model. They control aspects like learning rate, batch size, and more. Think of them as the settings on your cooking stove. You adjust them before cooking (training) to get the desired result.\n",
        "\n",
        "- **Epochs**: Epochs are like repetitions. They represent the number of times your model goes through the entire dataset during training. It's akin to reading the same book multiple times to grasp its content better.\n",
        "\n",
        "- **Batch Size**: Batch size refers to the number of examples the model sees at once during training. It's like how many pages you read at a time from the book. Smaller batch sizes are like reading a few pages at once, while larger batch sizes are like reading entire chapters at a time.\n",
        "\n",
        "- **Learning Rate**: Learning rate determines how much the model learns from each batch of data. It's like adjusting the size of steps you take while learning to dance. A higher learning rate means bigger steps, while a lower learning rate means smaller steps."
      ],
      "metadata": {
        "id": "mPVBoWIAwzvE"
      }
    },
    {
      "cell_type": "markdown",
      "source": [
        "## 1.5. Define the model"
      ],
      "metadata": {
        "id": "lHpp0kQ5xVaU"
      }
    },
    {
      "cell_type": "markdown",
      "source": [
        "### **Importance of weight initialization**\n",
        "\n",
        "* One reason backprop based models can perform bettter lies with the weight initialization method, one important point one should remember is that, if yur weights are initialized to be too high or low, backprop would struggle.\n",
        "* Hence one should always carefully initialize weights of your model, below i have shown approach with random_normal, one can use random_uniform, truncated version of both, Xavier init and orthogonal.\n",
        "* You will find modern day NNs have achieved stable and better performance by simply switching to better init and majority of cases Xavier or Orthogonal works best.\n",
        "* Always initialize your bias using zero or some small constant (ideally 0.01 or less works better). We use bias to shift the activation and in some cases it can stabalize learning, but having large bias can cause negative results."
      ],
      "metadata": {
        "id": "U7KCVarVCVPW"
      }
    },
    {
      "cell_type": "markdown",
      "source": [
        "### **Loss function**\n",
        "\n",
        "* We will always use cross-entropy loss for classification.\n",
        "\n",
        "* tf softmax,\n",
        "loss= tf.reduce_mean(tf.nn.softmax_cross_entropy_with_logits(logits=y_pred_tf, labels=y_true_tf)), this function is simply saying that it will calculate softmax for you, simply provide logits to it.\n",
        "\n",
        "* In other output of your forward pass directly goes this function. Now this operator will calculate or apply softmax over prediction or logits and calculate cross-entropy between prediction and target. I am using reduce_mean since we apply this over batches.\n",
        "* Second is using keras\n",
        "Method 1 :- This function requires logits, hence same as above you will pass logits or output variable to this function. Now remember you need from_logits = True, for this to work.\n",
        "cce = tf.keras.losses.CategoricalCrossentropy(from_logits=True)\n",
        "loss_x = cce(y_true_tf, y_pred_tf)\n",
        "\n",
        "* Method 2:- In this we will apply softmax to output function and then pass to CCE loss.\n",
        "So the approach is\n",
        "output = tf.nn.softmax(output)\n",
        "cce = tf.keras.losses.CategoricalCrossentropy(from_logits=False)\n",
        "loss_x = cce(y_true_tf, y_pred_tf)"
      ],
      "metadata": {
        "id": "CvxizMD5xSG-"
      }
    },
    {
      "cell_type": "code",
      "source": [
        "# MLP with 3 hidden layers\n",
        "class MLP(object):\n",
        "    def __init__(self, size_input, size_hidden1, size_hidden2, size_hidden3, size_output, device=None):\n",
        "        \"\"\"\n",
        "        size_input: int, size of input layer\n",
        "        size_hidden1: int, size of the 1st hidden layer\n",
        "        size_hidden2: int, size of the 2nd hidden layer\n",
        "        size_hidden3: int, size of the 3rd hidden layer\n",
        "        size_output: int, size of output layer\n",
        "        device: str or None, either 'cpu' or 'gpu' or None. If None, the device to be used will be decided automatically during Eager Execution\n",
        "        \"\"\"\n",
        "        self.size_input, self.size_hidden1, self.size_hidden2, self.size_hidden3, self.size_output, self.device =\\\n",
        "        size_input, size_hidden1, size_hidden2, size_hidden3, size_output, device\n",
        "\n",
        "        # Initialize weights between input mapping and a layer g(f(x)) = layer\n",
        "        self.W1 = tf.Variable(tf.random.normal([self.size_input, self.size_hidden1], stddev=0.1))  # Xavier(Fan-in fan-out) and Orthogonal\n",
        "        # Initialize biases for hidden layer\n",
        "        self.b1 = tf.Variable(tf.zeros([1, self.size_hidden1]))  # 0 or constant(0.01)\n",
        "\n",
        "        # Initialize weights between input layer and 1st hidden layer\n",
        "        self.W2 = tf.Variable(tf.random.normal([self.size_hidden1, self.size_hidden2], stddev=0.1))\n",
        "        # Initialize biases for hidden layer\n",
        "        self.b2 = tf.Variable(tf.zeros([1, self.size_hidden2]))\n",
        "\n",
        "        # Initialize weights between 1st hidden layer and 2nd hidden layer\n",
        "        self.W3 = tf.Variable(tf.random.normal([self.size_hidden2, self.size_hidden3], stddev=0.1))\n",
        "        # Initialize biases for hidden layer\n",
        "        self.b3 = tf.Variable(tf.zeros([1, self.size_hidden3]))\n",
        "\n",
        "        # Initialize weights between 2nd hidden layer and output layer\n",
        "        self.W4 = tf.Variable(tf.random.normal([self.size_hidden3, self.size_output], stddev=0.1))\n",
        "        # Initialize biases for output layer\n",
        "        self.b4 = tf.Variable(tf.zeros([1, self.size_output]))\n",
        "\n",
        "        # Define variables to be updated during backpropagation\n",
        "        self.variables = [self.W1, self.W2, self.W3, self.W4, self.b1, self.b2, self.b3, self.b4]\n",
        "\n",
        "    def forward(self, X):\n",
        "        \"\"\"\n",
        "        forward pass\n",
        "        X: Tensor, inputs\n",
        "        \"\"\"\n",
        "        if self.device is not None:\n",
        "            with tf.device('GPU:0' if self.device == 'gpu' else 'cpu'):\n",
        "                self.y = self.compute_output(X)\n",
        "        else:\n",
        "            self.y = self.compute_output(X)\n",
        "\n",
        "        return self.y\n",
        "\n",
        "    def loss(self, y_pred, y_true):\n",
        "        '''\n",
        "        y_pred - Tensor of shape (batch_size, size_output)\n",
        "        y_true - Tensor of shape (batch_size, size_output)\n",
        "        '''\n",
        "        y_true_tf = tf.cast(y_true, dtype=tf.float32)\n",
        "        y_pred_tf = tf.cast(y_pred, dtype=tf.float32)\n",
        "        cce = tf.keras.losses.CategoricalCrossentropy(from_logits=True)\n",
        "        loss_x = cce(y_true_tf, y_pred_tf)\n",
        "\n",
        "        return loss_x\n",
        "\n",
        "    def backward(self, X_train, y_train):\n",
        "        \"\"\"\n",
        "        backward pass\n",
        "        \"\"\"\n",
        "        optimizer = tf.keras.optimizers.SGD(learning_rate=0.1)\n",
        "\n",
        "        with tf.GradientTape() as tape:\n",
        "\n",
        "            predicted = self.forward(X_train)\n",
        "            current_loss = self.loss(predicted, y_train)\n",
        "\n",
        "        grads = tape.gradient(current_loss, self.variables)\n",
        "        optimizer.apply_gradients(zip(grads, self.variables))\n",
        "\n",
        "    @tf.function\n",
        "    def compute_output(self, X):\n",
        "        \"\"\"\n",
        "        Custom method to obtain output tensor during forward pass\n",
        "        \"\"\"\n",
        "        # Cast X to float32\n",
        "        X_tf = tf.cast(X, dtype=tf.float32)\n",
        "\n",
        "        # Compute values in hidden layers\n",
        "        z1 = tf.matmul(X_tf, self.W1) + self.b1\n",
        "        h1 = tf.nn.relu(z1)\n",
        "\n",
        "        z2 = tf.matmul(h1, self.W2) + self.b2\n",
        "        h2 = tf.nn.relu(z2)\n",
        "\n",
        "        z3 = tf.matmul(h2, self.W3) + self.b3\n",
        "        h3 = tf.nn.relu(z3)\n",
        "\n",
        "        # Compute output\n",
        "        output = tf.matmul(h3, self.W4) + self.b4\n",
        "\n",
        "        return output\n",
        "\n",
        "    def stderr(self,y_pred):\n",
        "      \"\"\"\n",
        "      Calculate standard error\n",
        "      \"\"\"\n",
        "      y_pred_tf = tf.cast(y_pred, dtype=tf.float32)\n",
        "      std_dev = np.std(y_pred_tf) #Calculates standard deviation\n",
        "      std_err = std_dev/np.sqrt(len(y_pred_tf))\n",
        "      return std_err\n",
        "\n",
        "\n",
        "    def var(self,y_pred):\n",
        "      \"\"\"\n",
        "        Calculate variance\n",
        "        \"\"\"\n",
        "      y_pred_tf = tf.cast(y_pred, dtype=tf.float32)\n",
        "      std_dev = np.std(y_pred_tf) #Calculates standard deviation\n",
        "      variance = (std_dev**2) # calculate variance\n",
        "      return variance"
      ],
      "metadata": {
        "id": "gUOZNTHzGARF"
      },
      "execution_count": null,
      "outputs": []
    },
    {
      "cell_type": "code",
      "source": [
        "# MLP with 2 hidden layers\n",
        "class MLP_2(object):\n",
        "    def __init__(self, size_input, size_hidden1, size_hidden2, size_output, device=None):\n",
        "        \"\"\"\n",
        "        size_input: int, size of input layer\n",
        "        size_hidden1: int, size of the 1st hidden layer\n",
        "        size_hidden2: int, size of the 2nd hidden layer\n",
        "        size_output: int, size of output layer\n",
        "        device: str or None, either 'cpu' or 'gpu' or None. If None, the device to be used will be decided automatically during Eager Execution\n",
        "        \"\"\"\n",
        "        self.size_input, self.size_hidden1, self.size_hidden2, self.size_output, self.device =\\\n",
        "        size_input, size_hidden1, size_hidden2, size_output, device\n",
        "\n",
        "        # Initialize weights between input mapping and a layer g(f(x)) = layer\n",
        "        self.W1 = tf.Variable(tf.random.normal([self.size_input, self.size_hidden1], stddev=0.1))  # Xavier(Fan-in fan-out) and Orthogonal\n",
        "        # Initialize biases for hidden layer\n",
        "        self.b1 = tf.Variable(tf.zeros([1, self.size_hidden1]))  # 0 or constant(0.01)\n",
        "\n",
        "        # Initialize weights between input layer and 1st hidden layer\n",
        "        self.W2 = tf.Variable(tf.random.normal([self.size_hidden1, self.size_hidden2], stddev=0.1))\n",
        "        # Initialize biases for hidden layer\n",
        "        self.b2 = tf.Variable(tf.zeros([1, self.size_hidden2]))\n",
        "\n",
        "        # Initialize weights between 2nd hidden layer and output layer\n",
        "        self.W3 = tf.Variable(tf.random.normal([self.size_hidden2, self.size_output], stddev=0.1))\n",
        "        # Initialize biases for output layer\n",
        "        self.b3 = tf.Variable(tf.zeros([1, self.size_output]))\n",
        "\n",
        "        # Define variables to be updated during backpropagation\n",
        "        self.variables = [self.W1, self.W2, self.W3, self.b1, self.b2, self.b3]\n",
        "\n",
        "    def forward(self, X):\n",
        "        \"\"\"\n",
        "        forward pass\n",
        "        X: Tensor, inputs\n",
        "        \"\"\"\n",
        "        if self.device is not None:\n",
        "            with tf.device('GPU:0' if self.device == 'gpu' else 'cpu'):\n",
        "                self.y = self.compute_output(X)\n",
        "        else:\n",
        "            self.y = self.compute_output(X)\n",
        "\n",
        "        return self.y\n",
        "\n",
        "    def loss(self, y_pred, y_true):\n",
        "        '''\n",
        "        y_pred - Tensor of shape (batch_size, size_output)\n",
        "        y_true - Tensor of shape (batch_size, size_output)\n",
        "        '''\n",
        "        y_true_tf = tf.cast(y_true, dtype=tf.float32)\n",
        "        y_pred_tf = tf.cast(y_pred, dtype=tf.float32)\n",
        "        cce = tf.keras.losses.CategoricalCrossentropy(from_logits=True)\n",
        "        loss_x = cce(y_true_tf, y_pred_tf)\n",
        "\n",
        "        return loss_x\n",
        "\n",
        "    def backward(self, X_train, y_train):\n",
        "        \"\"\"\n",
        "        backward pass\n",
        "        \"\"\"\n",
        "        optimizer = tf.keras.optimizers.SGD(learning_rate=0.1)\n",
        "\n",
        "        with tf.GradientTape() as tape:\n",
        "\n",
        "            predicted = self.forward(X_train)\n",
        "            current_loss = self.loss(predicted, y_train)\n",
        "\n",
        "        grads = tape.gradient(current_loss, self.variables)\n",
        "        optimizer.apply_gradients(zip(grads, self.variables))\n",
        "\n",
        "    @tf.function\n",
        "    def compute_output(self, X):\n",
        "        \"\"\"\n",
        "        Custom method to obtain output tensor during forward pass\n",
        "        \"\"\"\n",
        "        # Cast X to float32\n",
        "        X_tf = tf.cast(X, dtype=tf.float32)\n",
        "\n",
        "        # Compute values in hidden layers\n",
        "        z1 = tf.matmul(X_tf, self.W1) + self.b1\n",
        "        h1 = tf.nn.relu(z1)\n",
        "\n",
        "        z2 = tf.matmul(h1, self.W2) + self.b2\n",
        "        h2 = tf.nn.relu(z2)\n",
        "\n",
        "        # Compute output\n",
        "        output = tf.matmul(h2, self.W3) + self.b3\n",
        "\n",
        "        return output\n",
        "\n",
        "    def stderr(self,y_pred):\n",
        "      \"\"\"\n",
        "      Calculate standard error\n",
        "      \"\"\"\n",
        "      y_pred_tf = tf.cast(y_pred, dtype=tf.float32)\n",
        "      std_dev = np.std(y_pred_tf) #Calculates standard deviation\n",
        "      std_err = std_dev/np.sqrt(len(y_pred_tf))\n",
        "      return std_err\n",
        "\n",
        "\n",
        "    def var(self,y_pred):\n",
        "      \"\"\"\n",
        "        Calculate variance\n",
        "        \"\"\"\n",
        "      y_pred_tf = tf.cast(y_pred, dtype=tf.float32)\n",
        "      std_dev = np.std(y_pred_tf) #Calculates standard deviation\n",
        "      variance = (std_dev**2) # calculate variance\n",
        "      return variance"
      ],
      "metadata": {
        "id": "rSx6abDcMJh5"
      },
      "execution_count": null,
      "outputs": []
    },
    {
      "cell_type": "markdown",
      "source": [
        "## 1.6. Train the model"
      ],
      "metadata": {
        "id": "OzEKP59Lxrnx"
      }
    },
    {
      "cell_type": "code",
      "execution_count": null,
      "metadata": {
        "colab": {
          "base_uri": "https://localhost:8080/",
          "height": 586
        },
        "id": "pOnhvVlUCX6-",
        "outputId": "3a73315e-172e-42a7-aba9-b795c880c63c"
      },
      "outputs": [
        {
          "output_type": "stream",
          "name": "stdout",
          "text": [
            "\n",
            "Number of Epochs: 1\n",
            "Average Cross Entropy Loss: 0.003915226135253906 \n",
            "Train Accuracy: 0.9074\n",
            "\n",
            "Validation Accuracy: 0.9174\n",
            "\n",
            "\n",
            "Total time taken (in seconds): 126.27\n"
          ]
        },
        {
          "output_type": "display_data",
          "data": {
            "text/plain": [
              "<Figure size 640x480 with 1 Axes>"
            ],
            "image/png": "[encoded data removed]"
          },
          "metadata": {}
        }
      ],
      "source": [
        "# Set number of epochs\n",
        "NUM_EPOCHS = 1 #2 #10 #20\n",
        "\n",
        "# Initialize model using CPU\n",
        "mlp_on_cpu = MLP(size_input, size_hidden1, size_hidden2, size_hidden3, size_output, device='gpu')\n",
        "# mlp_on_cpu = MLP_2(size_input, size_hidden1, size_hidden2, size_output, device='gpu')\n",
        "\n",
        "time_start = time.time()\n",
        "\n",
        "for epoch in range(NUM_EPOCHS):\n",
        "\n",
        "  loss_total = tf.zeros([1,1], dtype=tf.float32)\n",
        "  lt = 0\n",
        "\n",
        "  train_ds = tf.data.Dataset.from_tensor_slices((X_train, y_train)).shuffle(25, seed=epoch*(1234)).batch(128) #32 or 64 or 128\n",
        "  kz = 0\n",
        "  accuracy_z = 0.0\n",
        "  cur_train_acc = 0.0\n",
        "  for inputs, outputs in train_ds:\n",
        "    qw, tr = tf.shape(inputs)\n",
        "    kz = kz + 1\n",
        "    preds = mlp_on_cpu.forward(inputs)\n",
        "    loss_total = loss_total + mlp_on_cpu.loss(preds, outputs)\n",
        "    lt = lt + mlp_on_cpu.loss(preds, outputs)\n",
        "    mlp_on_cpu.backward(inputs, outputs)\n",
        "\n",
        "  preds = mlp_on_cpu.forward(X_train)\n",
        "  # Get probs, remember we only have logits from our forward function, we need to apply softmax on top of it to get probs\n",
        "  preds = tf.nn.softmax(preds)\n",
        "  correct_prediction = tf.equal(tf.argmax(preds, 1), tf.argmax(y_train, 1))\n",
        "  accuracy_z = accuracy_z + tf.reduce_mean(tf.cast(correct_prediction, \"float\"))\n",
        "  cur_train_acc += accuracy_z.numpy()\n",
        "  ds = cur_train_acc\n",
        "\n",
        "  print('\\nNumber of Epochs: {}'.format(epoch + 1))\n",
        "  print('Average Cross Entropy Loss: {} '.format(np.sum(loss_total) / X_train.shape[0]))\n",
        "  print('Train Accuracy: {:.4f}\\n'.format(ds))\n",
        "\n",
        "  preds_val = mlp_on_cpu.forward(X_val)\n",
        "  preds_val = tf.nn.softmax(preds_val)\n",
        "  correct_prediction = tf.equal(tf.argmax(preds_val, 1), tf.argmax(y_val, 1))\n",
        "\n",
        "  # Calculate accuracy\n",
        "  accuracy = tf.reduce_mean(tf.cast(correct_prediction, \"float\"))\n",
        "  cur_val_acc = accuracy.numpy()\n",
        "\n",
        "  print('Validation Accuracy: {:.4f}\\n'.format(cur_val_acc))\n",
        "\n",
        "  plt.plot(epoch + 1, np.sum(loss_total) / X_train.shape[0], 'go')\n",
        "\n",
        "\n",
        "time_taken = time.time() - time_start\n",
        "\n",
        "# Validate model\n",
        "\n",
        "\n",
        "\n",
        "print('\\nTotal time taken (in seconds): {:.2f}'.format(time_taken))\n",
        "#For per epoch_time = Total_Time / Number_of_epochs\n"
      ]
    },
    {
      "cell_type": "markdown",
      "source": [
        "## 1.7. Evaluate the model"
      ],
      "metadata": {
        "id": "OwjG_hjpyHLD"
      }
    },
    {
      "cell_type": "code",
      "execution_count": null,
      "metadata": {
        "id": "8eNKeELWCX6_",
        "outputId": "356ddad4-17ba-4869-86e3-34ab7fa0786b",
        "colab": {
          "base_uri": "https://localhost:8080/"
        }
      },
      "outputs": [
        {
          "output_type": "stream",
          "name": "stdout",
          "text": [
            "Test loss: 0.0714\n",
            "standard error: 0.040476474761962894\n",
            "variance: 16.38345009155819\n",
            "std dev: 4.047647476196289\n",
            "\n",
            "Test Accuracy: 0.91\n"
          ]
        }
      ],
      "source": [
        "# Initialize\n",
        "test_loss_total = tf.Variable(0, dtype=tf.float32)\n",
        "correct_prediction = tf.Variable(0, dtype=tf.float32)\n",
        "\n",
        "\n",
        "test_ds = tf.data.Dataset.from_tensor_slices((X_test, y_test)).batch(4)\n",
        "\n",
        "\n",
        "#test_loss_total = 0.0\n",
        "for inputs, outputs in test_ds:\n",
        "  preds = mlp_on_cpu.forward(inputs)\n",
        "  test_loss_total = test_loss_total + mlp_on_cpu.loss(preds, outputs)\n",
        "print('Test loss: {:.4f}'.format(np.sum(test_loss_total.numpy()) / X_test.shape[0]))\n",
        "\n",
        "# Test model\n",
        "preds_test = mlp_on_cpu.forward(X_test)\n",
        "# preds_test = preds_test.copy()\n",
        "\n",
        "print(f\"standard error: {mlp_on_cpu.stderr(preds_test)}\")\n",
        "print(f\"variance: {mlp_on_cpu.var(preds_test)}\")\n",
        "print(f\"std dev: {np.sqrt(mlp_on_cpu.var(preds_test))}\")\n",
        "\n",
        "\n",
        "preds_test_ = tf.nn.softmax(preds_test)\n",
        "correct_prediction = tf.equal(tf.argmax(preds_test_, 1), tf.argmax(y_test, 1))\n",
        "\n",
        "# Calculate accuracy\n",
        "accuracy = tf.reduce_mean(tf.cast(correct_prediction, \"float\"))\n",
        "cur_test_acc = accuracy.numpy()\n",
        "print('\\nTest Accuracy: {:.2f}'.format(cur_test_acc))"
      ]
    },
    {
      "cell_type": "markdown",
      "source": [
        "# 2. Additional Resources"
      ],
      "metadata": {
        "id": "QyaLG6tKyXJc"
      }
    },
    {
      "cell_type": "markdown",
      "source": [
        "## 2.1. Training an MLP with PyTorch\n",
        "- **Ref_Multilayer_Perceptron_PyTorch.ipynb**\n",
        "    - https://github.com/rochanaro/mlp-intro/blob/main/Ref_Multilayer_Perceptron_PyTorch.ipynb\n",
        "- Referenced from:\n",
        "    - https://colab.research.google.com/github/bentrevett/pytorch-image-classification/blob/master/1_mlp.ipynb"
      ],
      "metadata": {
        "id": "iie6WE8i0Dm4"
      }
    },
    {
      "cell_type": "markdown",
      "source": [
        "## 2.2. Why GPUs are required ?\n",
        "- https://telnyx.com/resources/gpu-architecture-ai\n",
        "- https://www.youtube.com/watch?v=jP_KOQnl6yo\n"
      ],
      "metadata": {
        "id": "TLh05PrZ0Dp8"
      }
    },
    {
      "cell_type": "markdown",
      "source": [
        "## 2.3. Platforms that you can use for deep learning\n",
        "- Google Colab\n",
        "    - https://colab.research.google.com/\n",
        "- ODU Wahab Cluster\n",
        "    - https://wiki.hpc.odu.edu/en/GettingStarted\n",
        "- Dedictaed GPU env at your own lab\n",
        "- Your local machine with GPU capabiities\n",
        "    - **Windows**:\n",
        "        - NVIDIA GPU: CUDA Compute Capability 3.0 or higher\n",
        "        - Memory: At least 8GB RAM (preferably 16GB or more)\n",
        "        - Processor: Intel Core i5 or higher (or AMD Ryzen equivalent)\n",
        "    - **MacOS**:\n",
        "        - Apple M1 Chip (or newer)\n",
        "        - RAM: At least 8GB\n",
        "        - Storage: SSD storage\n",
        "        - Software Compatibility: Check compatibility with macOS for desired deep learning frameworks.\n",
        "    - **References**\n",
        "        - https://towardsdatascience.com/another-deep-learning-hardware-guide-73a4c35d3e86\n",
        "        - https://www.toolify.ai/ai-news/get-started-with-machine-learning-and-deep-learning-minimum-laptop-configuration-19506\n"
      ],
      "metadata": {
        "id": "UtAdxSAX0Dsy"
      }
    },
    {
      "cell_type": "markdown",
      "source": [
        "## 2.4. Designing an MLP without deep learning frameworks such as TensorFlow, Keras, PyTorch\n",
        "- https://github.com/KirillShmilovich/MLP-Neural-Network-From-Scratch/blob/master/MLP.ipynb"
      ],
      "metadata": {
        "id": "0ZAfy6VM0Dva"
      }
    },
    {
      "cell_type": "code",
      "source": [],
      "metadata": {
        "id": "GcfWqLNhEar5"
      },
      "execution_count": null,
      "outputs": []
    }
  ],
  "metadata": {
    "kernelspec": {
      "display_name": "Python 3",
      "name": "python3"
    },
    "language_info": {
      "codemirror_mode": {
        "name": "ipython",
        "version": 3
      },
      "file_extension": ".py",
      "mimetype": "text/x-python",
      "name": "python",
      "nbconvert_exporter": "python",
      "pygments_lexer": "ipython3",
      "version": "3.7.9"
    },
    "colab": {
      "provenance": [],
      "gpuType": "T4"
    },
    "accelerator": "GPU"
  },
  "nbformat": 4,
  "nbformat_minor": 0
}